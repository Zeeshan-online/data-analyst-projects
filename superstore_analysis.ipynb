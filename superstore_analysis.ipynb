{
 "cells": [
  {
   "cell_type": "markdown",
   "id": "7cdcffc5",
   "metadata": {},
   "source": [
    "# SuperStore Date Analysis"
   ]
  },
  {
   "cell_type": "markdown",
   "id": "07dbec69",
   "metadata": {},
   "source": [
    "## Main Analysis Questions\n",
    "### 1 Which product categories generate the most sales?\n",
    "\n",
    "### 2 Which cities/states buy the most?\n",
    "\n",
    "### 3 Which months have highest and lowest sales (seasonal trend)?\n",
    "\n",
    "### 4 Which products are profitable vs unprofitable?\n",
    "\n",
    "### 5 Which customer segment buys most?"
   ]
  },
  {
   "cell_type": "code",
   "execution_count": 1,
   "id": "0f084a72",
   "metadata": {},
   "outputs": [],
   "source": [
    "import pandas as pd\n",
    "import numpy as np\n",
    "import seaborn as sna\n",
    "import matplotlib.pyplot as plt"
   ]
  },
  {
   "cell_type": "markdown",
   "id": "5d88ec1d",
   "metadata": {},
   "source": [
    "## Read csv file"
   ]
  },
  {
   "cell_type": "code",
   "execution_count": 2,
   "id": "6515beda",
   "metadata": {},
   "outputs": [
    {
     "data": {
      "text/html": [
       "<div>\n",
       "<style scoped>\n",
       "    .dataframe tbody tr th:only-of-type {\n",
       "        vertical-align: middle;\n",
       "    }\n",
       "\n",
       "    .dataframe tbody tr th {\n",
       "        vertical-align: top;\n",
       "    }\n",
       "\n",
       "    .dataframe thead th {\n",
       "        text-align: right;\n",
       "    }\n",
       "</style>\n",
       "<table border=\"1\" class=\"dataframe\">\n",
       "  <thead>\n",
       "    <tr style=\"text-align: right;\">\n",
       "      <th></th>\n",
       "      <th>Category</th>\n",
       "      <th>City</th>\n",
       "      <th>Country</th>\n",
       "      <th>Customer.ID</th>\n",
       "      <th>Customer.Name</th>\n",
       "      <th>Discount</th>\n",
       "      <th>Market</th>\n",
       "      <th>记录数</th>\n",
       "      <th>Order.Date</th>\n",
       "      <th>Order.ID</th>\n",
       "      <th>...</th>\n",
       "      <th>Sales</th>\n",
       "      <th>Segment</th>\n",
       "      <th>Ship.Date</th>\n",
       "      <th>Ship.Mode</th>\n",
       "      <th>Shipping.Cost</th>\n",
       "      <th>State</th>\n",
       "      <th>Sub.Category</th>\n",
       "      <th>Year</th>\n",
       "      <th>Market2</th>\n",
       "      <th>weeknum</th>\n",
       "    </tr>\n",
       "  </thead>\n",
       "  <tbody>\n",
       "    <tr>\n",
       "      <th>0</th>\n",
       "      <td>Office Supplies</td>\n",
       "      <td>Los Angeles</td>\n",
       "      <td>United States</td>\n",
       "      <td>LS-172304</td>\n",
       "      <td>Lycoris Saunders</td>\n",
       "      <td>0.0</td>\n",
       "      <td>US</td>\n",
       "      <td>1</td>\n",
       "      <td>2011-01-07 00:00:00.000</td>\n",
       "      <td>CA-2011-130813</td>\n",
       "      <td>...</td>\n",
       "      <td>19</td>\n",
       "      <td>Consumer</td>\n",
       "      <td>2011-01-09 00:00:00.000</td>\n",
       "      <td>Second Class</td>\n",
       "      <td>4.37</td>\n",
       "      <td>California</td>\n",
       "      <td>Paper</td>\n",
       "      <td>2011</td>\n",
       "      <td>North America</td>\n",
       "      <td>2</td>\n",
       "    </tr>\n",
       "    <tr>\n",
       "      <th>1</th>\n",
       "      <td>Office Supplies</td>\n",
       "      <td>Los Angeles</td>\n",
       "      <td>United States</td>\n",
       "      <td>MV-174854</td>\n",
       "      <td>Mark Van Huff</td>\n",
       "      <td>0.0</td>\n",
       "      <td>US</td>\n",
       "      <td>1</td>\n",
       "      <td>2011-01-21 00:00:00.000</td>\n",
       "      <td>CA-2011-148614</td>\n",
       "      <td>...</td>\n",
       "      <td>19</td>\n",
       "      <td>Consumer</td>\n",
       "      <td>2011-01-26 00:00:00.000</td>\n",
       "      <td>Standard Class</td>\n",
       "      <td>0.94</td>\n",
       "      <td>California</td>\n",
       "      <td>Paper</td>\n",
       "      <td>2011</td>\n",
       "      <td>North America</td>\n",
       "      <td>4</td>\n",
       "    </tr>\n",
       "    <tr>\n",
       "      <th>2</th>\n",
       "      <td>Office Supplies</td>\n",
       "      <td>Los Angeles</td>\n",
       "      <td>United States</td>\n",
       "      <td>CS-121304</td>\n",
       "      <td>Chad Sievert</td>\n",
       "      <td>0.0</td>\n",
       "      <td>US</td>\n",
       "      <td>1</td>\n",
       "      <td>2011-08-05 00:00:00.000</td>\n",
       "      <td>CA-2011-118962</td>\n",
       "      <td>...</td>\n",
       "      <td>21</td>\n",
       "      <td>Consumer</td>\n",
       "      <td>2011-08-09 00:00:00.000</td>\n",
       "      <td>Standard Class</td>\n",
       "      <td>1.81</td>\n",
       "      <td>California</td>\n",
       "      <td>Paper</td>\n",
       "      <td>2011</td>\n",
       "      <td>North America</td>\n",
       "      <td>32</td>\n",
       "    </tr>\n",
       "    <tr>\n",
       "      <th>3</th>\n",
       "      <td>Office Supplies</td>\n",
       "      <td>Los Angeles</td>\n",
       "      <td>United States</td>\n",
       "      <td>CS-121304</td>\n",
       "      <td>Chad Sievert</td>\n",
       "      <td>0.0</td>\n",
       "      <td>US</td>\n",
       "      <td>1</td>\n",
       "      <td>2011-08-05 00:00:00.000</td>\n",
       "      <td>CA-2011-118962</td>\n",
       "      <td>...</td>\n",
       "      <td>111</td>\n",
       "      <td>Consumer</td>\n",
       "      <td>2011-08-09 00:00:00.000</td>\n",
       "      <td>Standard Class</td>\n",
       "      <td>4.59</td>\n",
       "      <td>California</td>\n",
       "      <td>Paper</td>\n",
       "      <td>2011</td>\n",
       "      <td>North America</td>\n",
       "      <td>32</td>\n",
       "    </tr>\n",
       "    <tr>\n",
       "      <th>4</th>\n",
       "      <td>Office Supplies</td>\n",
       "      <td>Los Angeles</td>\n",
       "      <td>United States</td>\n",
       "      <td>AP-109154</td>\n",
       "      <td>Arthur Prichep</td>\n",
       "      <td>0.0</td>\n",
       "      <td>US</td>\n",
       "      <td>1</td>\n",
       "      <td>2011-09-29 00:00:00.000</td>\n",
       "      <td>CA-2011-146969</td>\n",
       "      <td>...</td>\n",
       "      <td>6</td>\n",
       "      <td>Consumer</td>\n",
       "      <td>2011-10-03 00:00:00.000</td>\n",
       "      <td>Standard Class</td>\n",
       "      <td>1.32</td>\n",
       "      <td>California</td>\n",
       "      <td>Paper</td>\n",
       "      <td>2011</td>\n",
       "      <td>North America</td>\n",
       "      <td>40</td>\n",
       "    </tr>\n",
       "  </tbody>\n",
       "</table>\n",
       "<p>5 rows × 27 columns</p>\n",
       "</div>"
      ],
      "text/plain": [
       "          Category         City        Country Customer.ID     Customer.Name  \\\n",
       "0  Office Supplies  Los Angeles  United States   LS-172304  Lycoris Saunders   \n",
       "1  Office Supplies  Los Angeles  United States   MV-174854     Mark Van Huff   \n",
       "2  Office Supplies  Los Angeles  United States   CS-121304      Chad Sievert   \n",
       "3  Office Supplies  Los Angeles  United States   CS-121304      Chad Sievert   \n",
       "4  Office Supplies  Los Angeles  United States   AP-109154    Arthur Prichep   \n",
       "\n",
       "   Discount Market  记录数               Order.Date        Order.ID  ... Sales  \\\n",
       "0       0.0     US    1  2011-01-07 00:00:00.000  CA-2011-130813  ...    19   \n",
       "1       0.0     US    1  2011-01-21 00:00:00.000  CA-2011-148614  ...    19   \n",
       "2       0.0     US    1  2011-08-05 00:00:00.000  CA-2011-118962  ...    21   \n",
       "3       0.0     US    1  2011-08-05 00:00:00.000  CA-2011-118962  ...   111   \n",
       "4       0.0     US    1  2011-09-29 00:00:00.000  CA-2011-146969  ...     6   \n",
       "\n",
       "    Segment                Ship.Date       Ship.Mode  Shipping.Cost  \\\n",
       "0  Consumer  2011-01-09 00:00:00.000    Second Class           4.37   \n",
       "1  Consumer  2011-01-26 00:00:00.000  Standard Class           0.94   \n",
       "2  Consumer  2011-08-09 00:00:00.000  Standard Class           1.81   \n",
       "3  Consumer  2011-08-09 00:00:00.000  Standard Class           4.59   \n",
       "4  Consumer  2011-10-03 00:00:00.000  Standard Class           1.32   \n",
       "\n",
       "        State  Sub.Category  Year        Market2 weeknum  \n",
       "0  California         Paper  2011  North America       2  \n",
       "1  California         Paper  2011  North America       4  \n",
       "2  California         Paper  2011  North America      32  \n",
       "3  California         Paper  2011  North America      32  \n",
       "4  California         Paper  2011  North America      40  \n",
       "\n",
       "[5 rows x 27 columns]"
      ]
     },
     "execution_count": 2,
     "metadata": {},
     "output_type": "execute_result"
    }
   ],
   "source": [
    "df = pd.read_csv('superstore.csv/superstore.csv')\n",
    "df.head()"
   ]
  },
  {
   "cell_type": "markdown",
   "id": "a940ce55",
   "metadata": {},
   "source": [
    "## Removed coulmns we don't need "
   ]
  },
  {
   "cell_type": "code",
   "execution_count": 3,
   "id": "cc06cc40",
   "metadata": {},
   "outputs": [
    {
     "data": {
      "text/html": [
       "<div>\n",
       "<style scoped>\n",
       "    .dataframe tbody tr th:only-of-type {\n",
       "        vertical-align: middle;\n",
       "    }\n",
       "\n",
       "    .dataframe tbody tr th {\n",
       "        vertical-align: top;\n",
       "    }\n",
       "\n",
       "    .dataframe thead th {\n",
       "        text-align: right;\n",
       "    }\n",
       "</style>\n",
       "<table border=\"1\" class=\"dataframe\">\n",
       "  <thead>\n",
       "    <tr style=\"text-align: right;\">\n",
       "      <th></th>\n",
       "      <th>Category</th>\n",
       "      <th>City</th>\n",
       "      <th>Country</th>\n",
       "      <th>Customer.ID</th>\n",
       "      <th>Customer.Name</th>\n",
       "      <th>Discount</th>\n",
       "      <th>Market</th>\n",
       "      <th>Order.Date</th>\n",
       "      <th>Order.ID</th>\n",
       "      <th>Order.Priority</th>\n",
       "      <th>...</th>\n",
       "      <th>Quantity</th>\n",
       "      <th>Region</th>\n",
       "      <th>Sales</th>\n",
       "      <th>Segment</th>\n",
       "      <th>Ship.Date</th>\n",
       "      <th>Ship.Mode</th>\n",
       "      <th>Shipping.Cost</th>\n",
       "      <th>State</th>\n",
       "      <th>Sub.Category</th>\n",
       "      <th>Year</th>\n",
       "    </tr>\n",
       "  </thead>\n",
       "  <tbody>\n",
       "    <tr>\n",
       "      <th>0</th>\n",
       "      <td>Office Supplies</td>\n",
       "      <td>Los Angeles</td>\n",
       "      <td>United States</td>\n",
       "      <td>LS-172304</td>\n",
       "      <td>Lycoris Saunders</td>\n",
       "      <td>0.0</td>\n",
       "      <td>US</td>\n",
       "      <td>2011-01-07 00:00:00.000</td>\n",
       "      <td>CA-2011-130813</td>\n",
       "      <td>High</td>\n",
       "      <td>...</td>\n",
       "      <td>3</td>\n",
       "      <td>West</td>\n",
       "      <td>19</td>\n",
       "      <td>Consumer</td>\n",
       "      <td>2011-01-09 00:00:00.000</td>\n",
       "      <td>Second Class</td>\n",
       "      <td>4.37</td>\n",
       "      <td>California</td>\n",
       "      <td>Paper</td>\n",
       "      <td>2011</td>\n",
       "    </tr>\n",
       "    <tr>\n",
       "      <th>1</th>\n",
       "      <td>Office Supplies</td>\n",
       "      <td>Los Angeles</td>\n",
       "      <td>United States</td>\n",
       "      <td>MV-174854</td>\n",
       "      <td>Mark Van Huff</td>\n",
       "      <td>0.0</td>\n",
       "      <td>US</td>\n",
       "      <td>2011-01-21 00:00:00.000</td>\n",
       "      <td>CA-2011-148614</td>\n",
       "      <td>Medium</td>\n",
       "      <td>...</td>\n",
       "      <td>2</td>\n",
       "      <td>West</td>\n",
       "      <td>19</td>\n",
       "      <td>Consumer</td>\n",
       "      <td>2011-01-26 00:00:00.000</td>\n",
       "      <td>Standard Class</td>\n",
       "      <td>0.94</td>\n",
       "      <td>California</td>\n",
       "      <td>Paper</td>\n",
       "      <td>2011</td>\n",
       "    </tr>\n",
       "    <tr>\n",
       "      <th>2</th>\n",
       "      <td>Office Supplies</td>\n",
       "      <td>Los Angeles</td>\n",
       "      <td>United States</td>\n",
       "      <td>CS-121304</td>\n",
       "      <td>Chad Sievert</td>\n",
       "      <td>0.0</td>\n",
       "      <td>US</td>\n",
       "      <td>2011-08-05 00:00:00.000</td>\n",
       "      <td>CA-2011-118962</td>\n",
       "      <td>Medium</td>\n",
       "      <td>...</td>\n",
       "      <td>3</td>\n",
       "      <td>West</td>\n",
       "      <td>21</td>\n",
       "      <td>Consumer</td>\n",
       "      <td>2011-08-09 00:00:00.000</td>\n",
       "      <td>Standard Class</td>\n",
       "      <td>1.81</td>\n",
       "      <td>California</td>\n",
       "      <td>Paper</td>\n",
       "      <td>2011</td>\n",
       "    </tr>\n",
       "    <tr>\n",
       "      <th>3</th>\n",
       "      <td>Office Supplies</td>\n",
       "      <td>Los Angeles</td>\n",
       "      <td>United States</td>\n",
       "      <td>CS-121304</td>\n",
       "      <td>Chad Sievert</td>\n",
       "      <td>0.0</td>\n",
       "      <td>US</td>\n",
       "      <td>2011-08-05 00:00:00.000</td>\n",
       "      <td>CA-2011-118962</td>\n",
       "      <td>Medium</td>\n",
       "      <td>...</td>\n",
       "      <td>2</td>\n",
       "      <td>West</td>\n",
       "      <td>111</td>\n",
       "      <td>Consumer</td>\n",
       "      <td>2011-08-09 00:00:00.000</td>\n",
       "      <td>Standard Class</td>\n",
       "      <td>4.59</td>\n",
       "      <td>California</td>\n",
       "      <td>Paper</td>\n",
       "      <td>2011</td>\n",
       "    </tr>\n",
       "    <tr>\n",
       "      <th>4</th>\n",
       "      <td>Office Supplies</td>\n",
       "      <td>Los Angeles</td>\n",
       "      <td>United States</td>\n",
       "      <td>AP-109154</td>\n",
       "      <td>Arthur Prichep</td>\n",
       "      <td>0.0</td>\n",
       "      <td>US</td>\n",
       "      <td>2011-09-29 00:00:00.000</td>\n",
       "      <td>CA-2011-146969</td>\n",
       "      <td>High</td>\n",
       "      <td>...</td>\n",
       "      <td>1</td>\n",
       "      <td>West</td>\n",
       "      <td>6</td>\n",
       "      <td>Consumer</td>\n",
       "      <td>2011-10-03 00:00:00.000</td>\n",
       "      <td>Standard Class</td>\n",
       "      <td>1.32</td>\n",
       "      <td>California</td>\n",
       "      <td>Paper</td>\n",
       "      <td>2011</td>\n",
       "    </tr>\n",
       "  </tbody>\n",
       "</table>\n",
       "<p>5 rows × 23 columns</p>\n",
       "</div>"
      ],
      "text/plain": [
       "          Category         City        Country Customer.ID     Customer.Name  \\\n",
       "0  Office Supplies  Los Angeles  United States   LS-172304  Lycoris Saunders   \n",
       "1  Office Supplies  Los Angeles  United States   MV-174854     Mark Van Huff   \n",
       "2  Office Supplies  Los Angeles  United States   CS-121304      Chad Sievert   \n",
       "3  Office Supplies  Los Angeles  United States   CS-121304      Chad Sievert   \n",
       "4  Office Supplies  Los Angeles  United States   AP-109154    Arthur Prichep   \n",
       "\n",
       "   Discount Market               Order.Date        Order.ID Order.Priority  \\\n",
       "0       0.0     US  2011-01-07 00:00:00.000  CA-2011-130813           High   \n",
       "1       0.0     US  2011-01-21 00:00:00.000  CA-2011-148614         Medium   \n",
       "2       0.0     US  2011-08-05 00:00:00.000  CA-2011-118962         Medium   \n",
       "3       0.0     US  2011-08-05 00:00:00.000  CA-2011-118962         Medium   \n",
       "4       0.0     US  2011-09-29 00:00:00.000  CA-2011-146969           High   \n",
       "\n",
       "   ... Quantity Region  Sales   Segment                Ship.Date  \\\n",
       "0  ...        3   West     19  Consumer  2011-01-09 00:00:00.000   \n",
       "1  ...        2   West     19  Consumer  2011-01-26 00:00:00.000   \n",
       "2  ...        3   West     21  Consumer  2011-08-09 00:00:00.000   \n",
       "3  ...        2   West    111  Consumer  2011-08-09 00:00:00.000   \n",
       "4  ...        1   West      6  Consumer  2011-10-03 00:00:00.000   \n",
       "\n",
       "        Ship.Mode Shipping.Cost       State Sub.Category  Year  \n",
       "0    Second Class          4.37  California        Paper  2011  \n",
       "1  Standard Class          0.94  California        Paper  2011  \n",
       "2  Standard Class          1.81  California        Paper  2011  \n",
       "3  Standard Class          4.59  California        Paper  2011  \n",
       "4  Standard Class          1.32  California        Paper  2011  \n",
       "\n",
       "[5 rows x 23 columns]"
      ]
     },
     "execution_count": 3,
     "metadata": {},
     "output_type": "execute_result"
    }
   ],
   "source": [
    "columns_to_drop = ['Row.ID', '记录数', 'Market2', 'weeknum']\n",
    "\n",
    "df = df.drop(columns=columns_to_drop, errors='ignore')\n",
    "\n",
    "df.head()\n"
   ]
  },
  {
   "cell_type": "markdown",
   "id": "9710e8e0",
   "metadata": {},
   "source": [
    "## check null value in dataset"
   ]
  },
  {
   "cell_type": "code",
   "execution_count": 4,
   "id": "898bb736",
   "metadata": {},
   "outputs": [
    {
     "name": "stdout",
     "output_type": "stream",
     "text": [
      "<class 'pandas.core.frame.DataFrame'>\n",
      "RangeIndex: 51290 entries, 0 to 51289\n",
      "Data columns (total 23 columns):\n",
      " #   Column          Non-Null Count  Dtype  \n",
      "---  ------          --------------  -----  \n",
      " 0   Category        51290 non-null  object \n",
      " 1   City            51290 non-null  object \n",
      " 2   Country         51290 non-null  object \n",
      " 3   Customer.ID     51290 non-null  object \n",
      " 4   Customer.Name   51290 non-null  object \n",
      " 5   Discount        51290 non-null  float64\n",
      " 6   Market          51290 non-null  object \n",
      " 7   Order.Date      51290 non-null  object \n",
      " 8   Order.ID        51290 non-null  object \n",
      " 9   Order.Priority  51290 non-null  object \n",
      " 10  Product.ID      51290 non-null  object \n",
      " 11  Product.Name    51290 non-null  object \n",
      " 12  Profit          51290 non-null  float64\n",
      " 13  Quantity        51290 non-null  int64  \n",
      " 14  Region          51290 non-null  object \n",
      " 15  Sales           51290 non-null  int64  \n",
      " 16  Segment         51290 non-null  object \n",
      " 17  Ship.Date       51290 non-null  object \n",
      " 18  Ship.Mode       51290 non-null  object \n",
      " 19  Shipping.Cost   51290 non-null  float64\n",
      " 20  State           51290 non-null  object \n",
      " 21  Sub.Category    51290 non-null  object \n",
      " 22  Year            51290 non-null  int64  \n",
      "dtypes: float64(3), int64(3), object(17)\n",
      "memory usage: 9.0+ MB\n"
     ]
    },
    {
     "data": {
      "text/plain": [
       "Category          0\n",
       "City              0\n",
       "Country           0\n",
       "Customer.ID       0\n",
       "Customer.Name     0\n",
       "Discount          0\n",
       "Market            0\n",
       "Order.Date        0\n",
       "Order.ID          0\n",
       "Order.Priority    0\n",
       "Product.ID        0\n",
       "Product.Name      0\n",
       "Profit            0\n",
       "Quantity          0\n",
       "Region            0\n",
       "Sales             0\n",
       "Segment           0\n",
       "Ship.Date         0\n",
       "Ship.Mode         0\n",
       "Shipping.Cost     0\n",
       "State             0\n",
       "Sub.Category      0\n",
       "Year              0\n",
       "dtype: int64"
      ]
     },
     "execution_count": 4,
     "metadata": {},
     "output_type": "execute_result"
    }
   ],
   "source": [
    "df.info()\n",
    "df.isnull().sum()"
   ]
  },
  {
   "cell_type": "code",
   "execution_count": 5,
   "id": "ab7a3ca6",
   "metadata": {},
   "outputs": [
    {
     "data": {
      "text/html": [
       "<div>\n",
       "<style scoped>\n",
       "    .dataframe tbody tr th:only-of-type {\n",
       "        vertical-align: middle;\n",
       "    }\n",
       "\n",
       "    .dataframe tbody tr th {\n",
       "        vertical-align: top;\n",
       "    }\n",
       "\n",
       "    .dataframe thead th {\n",
       "        text-align: right;\n",
       "    }\n",
       "</style>\n",
       "<table border=\"1\" class=\"dataframe\">\n",
       "  <thead>\n",
       "    <tr style=\"text-align: right;\">\n",
       "      <th></th>\n",
       "      <th>Category</th>\n",
       "      <th>City</th>\n",
       "      <th>Country</th>\n",
       "      <th>Customer.ID</th>\n",
       "      <th>Customer.Name</th>\n",
       "      <th>Discount</th>\n",
       "      <th>Market</th>\n",
       "      <th>Order.Date</th>\n",
       "      <th>Order.ID</th>\n",
       "      <th>Order.Priority</th>\n",
       "      <th>...</th>\n",
       "      <th>Quantity</th>\n",
       "      <th>Region</th>\n",
       "      <th>Sales</th>\n",
       "      <th>Segment</th>\n",
       "      <th>Ship.Date</th>\n",
       "      <th>Ship.Mode</th>\n",
       "      <th>Shipping.Cost</th>\n",
       "      <th>State</th>\n",
       "      <th>Sub.Category</th>\n",
       "      <th>Year</th>\n",
       "    </tr>\n",
       "  </thead>\n",
       "  <tbody>\n",
       "    <tr>\n",
       "      <th>0</th>\n",
       "      <td>Office Supplies</td>\n",
       "      <td>Los Angeles</td>\n",
       "      <td>United States</td>\n",
       "      <td>LS-172304</td>\n",
       "      <td>Lycoris Saunders</td>\n",
       "      <td>0.0</td>\n",
       "      <td>US</td>\n",
       "      <td>2011-01-07 00:00:00.000</td>\n",
       "      <td>CA-2011-130813</td>\n",
       "      <td>High</td>\n",
       "      <td>...</td>\n",
       "      <td>3</td>\n",
       "      <td>West</td>\n",
       "      <td>19</td>\n",
       "      <td>Consumer</td>\n",
       "      <td>2011-01-09 00:00:00.000</td>\n",
       "      <td>Second Class</td>\n",
       "      <td>4.37</td>\n",
       "      <td>California</td>\n",
       "      <td>Paper</td>\n",
       "      <td>2011</td>\n",
       "    </tr>\n",
       "    <tr>\n",
       "      <th>1</th>\n",
       "      <td>Office Supplies</td>\n",
       "      <td>Los Angeles</td>\n",
       "      <td>United States</td>\n",
       "      <td>MV-174854</td>\n",
       "      <td>Mark Van Huff</td>\n",
       "      <td>0.0</td>\n",
       "      <td>US</td>\n",
       "      <td>2011-01-21 00:00:00.000</td>\n",
       "      <td>CA-2011-148614</td>\n",
       "      <td>Medium</td>\n",
       "      <td>...</td>\n",
       "      <td>2</td>\n",
       "      <td>West</td>\n",
       "      <td>19</td>\n",
       "      <td>Consumer</td>\n",
       "      <td>2011-01-26 00:00:00.000</td>\n",
       "      <td>Standard Class</td>\n",
       "      <td>0.94</td>\n",
       "      <td>California</td>\n",
       "      <td>Paper</td>\n",
       "      <td>2011</td>\n",
       "    </tr>\n",
       "    <tr>\n",
       "      <th>2</th>\n",
       "      <td>Office Supplies</td>\n",
       "      <td>Los Angeles</td>\n",
       "      <td>United States</td>\n",
       "      <td>CS-121304</td>\n",
       "      <td>Chad Sievert</td>\n",
       "      <td>0.0</td>\n",
       "      <td>US</td>\n",
       "      <td>2011-08-05 00:00:00.000</td>\n",
       "      <td>CA-2011-118962</td>\n",
       "      <td>Medium</td>\n",
       "      <td>...</td>\n",
       "      <td>3</td>\n",
       "      <td>West</td>\n",
       "      <td>21</td>\n",
       "      <td>Consumer</td>\n",
       "      <td>2011-08-09 00:00:00.000</td>\n",
       "      <td>Standard Class</td>\n",
       "      <td>1.81</td>\n",
       "      <td>California</td>\n",
       "      <td>Paper</td>\n",
       "      <td>2011</td>\n",
       "    </tr>\n",
       "    <tr>\n",
       "      <th>3</th>\n",
       "      <td>Office Supplies</td>\n",
       "      <td>Los Angeles</td>\n",
       "      <td>United States</td>\n",
       "      <td>CS-121304</td>\n",
       "      <td>Chad Sievert</td>\n",
       "      <td>0.0</td>\n",
       "      <td>US</td>\n",
       "      <td>2011-08-05 00:00:00.000</td>\n",
       "      <td>CA-2011-118962</td>\n",
       "      <td>Medium</td>\n",
       "      <td>...</td>\n",
       "      <td>2</td>\n",
       "      <td>West</td>\n",
       "      <td>111</td>\n",
       "      <td>Consumer</td>\n",
       "      <td>2011-08-09 00:00:00.000</td>\n",
       "      <td>Standard Class</td>\n",
       "      <td>4.59</td>\n",
       "      <td>California</td>\n",
       "      <td>Paper</td>\n",
       "      <td>2011</td>\n",
       "    </tr>\n",
       "    <tr>\n",
       "      <th>4</th>\n",
       "      <td>Office Supplies</td>\n",
       "      <td>Los Angeles</td>\n",
       "      <td>United States</td>\n",
       "      <td>AP-109154</td>\n",
       "      <td>Arthur Prichep</td>\n",
       "      <td>0.0</td>\n",
       "      <td>US</td>\n",
       "      <td>2011-09-29 00:00:00.000</td>\n",
       "      <td>CA-2011-146969</td>\n",
       "      <td>High</td>\n",
       "      <td>...</td>\n",
       "      <td>1</td>\n",
       "      <td>West</td>\n",
       "      <td>6</td>\n",
       "      <td>Consumer</td>\n",
       "      <td>2011-10-03 00:00:00.000</td>\n",
       "      <td>Standard Class</td>\n",
       "      <td>1.32</td>\n",
       "      <td>California</td>\n",
       "      <td>Paper</td>\n",
       "      <td>2011</td>\n",
       "    </tr>\n",
       "  </tbody>\n",
       "</table>\n",
       "<p>5 rows × 23 columns</p>\n",
       "</div>"
      ],
      "text/plain": [
       "          Category         City        Country Customer.ID     Customer.Name  \\\n",
       "0  Office Supplies  Los Angeles  United States   LS-172304  Lycoris Saunders   \n",
       "1  Office Supplies  Los Angeles  United States   MV-174854     Mark Van Huff   \n",
       "2  Office Supplies  Los Angeles  United States   CS-121304      Chad Sievert   \n",
       "3  Office Supplies  Los Angeles  United States   CS-121304      Chad Sievert   \n",
       "4  Office Supplies  Los Angeles  United States   AP-109154    Arthur Prichep   \n",
       "\n",
       "   Discount Market               Order.Date        Order.ID Order.Priority  \\\n",
       "0       0.0     US  2011-01-07 00:00:00.000  CA-2011-130813           High   \n",
       "1       0.0     US  2011-01-21 00:00:00.000  CA-2011-148614         Medium   \n",
       "2       0.0     US  2011-08-05 00:00:00.000  CA-2011-118962         Medium   \n",
       "3       0.0     US  2011-08-05 00:00:00.000  CA-2011-118962         Medium   \n",
       "4       0.0     US  2011-09-29 00:00:00.000  CA-2011-146969           High   \n",
       "\n",
       "   ... Quantity Region  Sales   Segment                Ship.Date  \\\n",
       "0  ...        3   West     19  Consumer  2011-01-09 00:00:00.000   \n",
       "1  ...        2   West     19  Consumer  2011-01-26 00:00:00.000   \n",
       "2  ...        3   West     21  Consumer  2011-08-09 00:00:00.000   \n",
       "3  ...        2   West    111  Consumer  2011-08-09 00:00:00.000   \n",
       "4  ...        1   West      6  Consumer  2011-10-03 00:00:00.000   \n",
       "\n",
       "        Ship.Mode Shipping.Cost       State Sub.Category  Year  \n",
       "0    Second Class          4.37  California        Paper  2011  \n",
       "1  Standard Class          0.94  California        Paper  2011  \n",
       "2  Standard Class          1.81  California        Paper  2011  \n",
       "3  Standard Class          4.59  California        Paper  2011  \n",
       "4  Standard Class          1.32  California        Paper  2011  \n",
       "\n",
       "[5 rows x 23 columns]"
      ]
     },
     "execution_count": 5,
     "metadata": {},
     "output_type": "execute_result"
    }
   ],
   "source": [
    "df.head()"
   ]
  },
  {
   "cell_type": "markdown",
   "id": "55ac62b3",
   "metadata": {},
   "source": [
    "____"
   ]
  },
  {
   "cell_type": "markdown",
   "id": "d2385bd4",
   "metadata": {},
   "source": [
    "### Q#1 Which product categories generate the most sales"
   ]
  },
  {
   "cell_type": "code",
   "execution_count": 25,
   "id": "7ffd640b",
   "metadata": {},
   "outputs": [],
   "source": [
    "df['Order.Date'] = pd.to_datetime(df['Order.Date'], errors='coerce')\n",
    "df['Ship.Date'] = pd.to_datetime(df['Ship.Date'], errors='coerce')\n"
   ]
  },
  {
   "cell_type": "code",
   "execution_count": 10,
   "id": "9e853c0d",
   "metadata": {},
   "outputs": [
    {
     "data": {
      "text/plain": [
       "Category\n",
       "Technology         4744691\n",
       "Furniture          4110884\n",
       "Office Supplies    3787330\n",
       "Name: Sales, dtype: int64"
      ]
     },
     "execution_count": 10,
     "metadata": {},
     "output_type": "execute_result"
    }
   ],
   "source": [
    "df.groupby('Category')['Sales'].sum().sort_values(ascending=False)\n"
   ]
  },
  {
   "cell_type": "code",
   "execution_count": 11,
   "id": "6ef59be5",
   "metadata": {},
   "outputs": [
    {
     "data": {
      "text/plain": [
       "Category\n",
       "Technology         663778.73318\n",
       "Office Supplies    518473.83430\n",
       "Furniture          285204.72380\n",
       "Name: Profit, dtype: float64"
      ]
     },
     "execution_count": 11,
     "metadata": {},
     "output_type": "execute_result"
    }
   ],
   "source": [
    "df.groupby('Category')['Profit'].sum().sort_values(ascending=False)"
   ]
  },
  {
   "cell_type": "code",
   "execution_count": 15,
   "id": "006b4088",
   "metadata": {},
   "outputs": [
    {
     "data": {
      "text/plain": [
       "Sub.Category\n",
       "Tables         -64083.38870\n",
       "Fasteners       11525.42410\n",
       "Labels          15010.51200\n",
       "Supplies        22583.26310\n",
       "Envelopes       29601.11630\n",
       "Furnishings     46967.42550\n",
       "Art             57953.91090\n",
       "Machines        58867.87300\n",
       "Paper           59207.68270\n",
       "Binders         72449.84600\n",
       "Storage        108461.48980\n",
       "Accessories    129626.30620\n",
       "Chairs         140396.26750\n",
       "Appliances     141680.58940\n",
       "Bookcases      161924.41950\n",
       "Phones         216717.00580\n",
       "Copiers        258567.54818\n",
       "Name: Profit, dtype: float64"
      ]
     },
     "execution_count": 15,
     "metadata": {},
     "output_type": "execute_result"
    }
   ],
   "source": [
    "df.groupby('Sub.Category')['Profit'].sum().sort_values()\n"
   ]
  },
  {
   "cell_type": "markdown",
   "id": "0cf8982e",
   "metadata": {},
   "source": [
    "### Sales by Product Category\n",
    "\n",
    "This chart shows the total sales generated by each product category.  \n",
    "We can see that **Technology** generates the highest revenue, followed by **Furniture**, while **Office Supplies** has the lowest sales.\n"
   ]
  },
  {
   "cell_type": "code",
   "execution_count": 55,
   "id": "3a4dc502",
   "metadata": {},
   "outputs": [
    {
     "data": {
      "image/png": "[encoded data removed]",
      "text/plain": [
       "<Figure size 1000x600 with 1 Axes>"
      ]
     },
     "metadata": {},
     "output_type": "display_data"
    }
   ],
   "source": [
    "profit_by_sub = df.groupby('Sub.Category')['Profit'].sum().sort_values()\n",
    "\n",
    "\n",
    "profit_by_sub.plot(kind='bar', figsize=(10,6))\n",
    "plt.title(\"Profit by Sub-Category\")\n",
    "plt.xlabel(\"Sub-Category\")\n",
    "plt.ylabel(\"Total Profit\")\n",
    "plt.show()"
   ]
  },
  {
   "cell_type": "markdown",
   "id": "571f1150",
   "metadata": {},
   "source": [
    "## Table Summary"
   ]
  },
  {
   "cell_type": "code",
   "execution_count": 24,
   "id": "94017947",
   "metadata": {},
   "outputs": [
    {
     "data": {
      "text/html": [
       "<div>\n",
       "<style scoped>\n",
       "    .dataframe tbody tr th:only-of-type {\n",
       "        vertical-align: middle;\n",
       "    }\n",
       "\n",
       "    .dataframe tbody tr th {\n",
       "        vertical-align: top;\n",
       "    }\n",
       "\n",
       "    .dataframe thead th {\n",
       "        text-align: right;\n",
       "    }\n",
       "</style>\n",
       "<table border=\"1\" class=\"dataframe\">\n",
       "  <thead>\n",
       "    <tr style=\"text-align: right;\">\n",
       "      <th></th>\n",
       "      <th>Sub.Category</th>\n",
       "      <th>Profit</th>\n",
       "    </tr>\n",
       "  </thead>\n",
       "  <tbody>\n",
       "    <tr>\n",
       "      <th>16</th>\n",
       "      <td>Tables</td>\n",
       "      <td>-64083.38870</td>\n",
       "    </tr>\n",
       "    <tr>\n",
       "      <th>8</th>\n",
       "      <td>Fasteners</td>\n",
       "      <td>11525.42410</td>\n",
       "    </tr>\n",
       "    <tr>\n",
       "      <th>10</th>\n",
       "      <td>Labels</td>\n",
       "      <td>15010.51200</td>\n",
       "    </tr>\n",
       "    <tr>\n",
       "      <th>15</th>\n",
       "      <td>Supplies</td>\n",
       "      <td>22583.26310</td>\n",
       "    </tr>\n",
       "    <tr>\n",
       "      <th>7</th>\n",
       "      <td>Envelopes</td>\n",
       "      <td>29601.11630</td>\n",
       "    </tr>\n",
       "    <tr>\n",
       "      <th>9</th>\n",
       "      <td>Furnishings</td>\n",
       "      <td>46967.42550</td>\n",
       "    </tr>\n",
       "    <tr>\n",
       "      <th>2</th>\n",
       "      <td>Art</td>\n",
       "      <td>57953.91090</td>\n",
       "    </tr>\n",
       "    <tr>\n",
       "      <th>11</th>\n",
       "      <td>Machines</td>\n",
       "      <td>58867.87300</td>\n",
       "    </tr>\n",
       "    <tr>\n",
       "      <th>12</th>\n",
       "      <td>Paper</td>\n",
       "      <td>59207.68270</td>\n",
       "    </tr>\n",
       "    <tr>\n",
       "      <th>3</th>\n",
       "      <td>Binders</td>\n",
       "      <td>72449.84600</td>\n",
       "    </tr>\n",
       "    <tr>\n",
       "      <th>14</th>\n",
       "      <td>Storage</td>\n",
       "      <td>108461.48980</td>\n",
       "    </tr>\n",
       "    <tr>\n",
       "      <th>0</th>\n",
       "      <td>Accessories</td>\n",
       "      <td>129626.30620</td>\n",
       "    </tr>\n",
       "    <tr>\n",
       "      <th>5</th>\n",
       "      <td>Chairs</td>\n",
       "      <td>140396.26750</td>\n",
       "    </tr>\n",
       "    <tr>\n",
       "      <th>1</th>\n",
       "      <td>Appliances</td>\n",
       "      <td>141680.58940</td>\n",
       "    </tr>\n",
       "    <tr>\n",
       "      <th>4</th>\n",
       "      <td>Bookcases</td>\n",
       "      <td>161924.41950</td>\n",
       "    </tr>\n",
       "    <tr>\n",
       "      <th>13</th>\n",
       "      <td>Phones</td>\n",
       "      <td>216717.00580</td>\n",
       "    </tr>\n",
       "    <tr>\n",
       "      <th>6</th>\n",
       "      <td>Copiers</td>\n",
       "      <td>258567.54818</td>\n",
       "    </tr>\n",
       "  </tbody>\n",
       "</table>\n",
       "</div>"
      ],
      "text/plain": [
       "   Sub.Category        Profit\n",
       "16       Tables  -64083.38870\n",
       "8     Fasteners   11525.42410\n",
       "10       Labels   15010.51200\n",
       "15     Supplies   22583.26310\n",
       "7     Envelopes   29601.11630\n",
       "9   Furnishings   46967.42550\n",
       "2           Art   57953.91090\n",
       "11     Machines   58867.87300\n",
       "12        Paper   59207.68270\n",
       "3       Binders   72449.84600\n",
       "14      Storage  108461.48980\n",
       "0   Accessories  129626.30620\n",
       "5        Chairs  140396.26750\n",
       "1    Appliances  141680.58940\n",
       "4     Bookcases  161924.41950\n",
       "13       Phones  216717.00580\n",
       "6       Copiers  258567.54818"
      ]
     },
     "execution_count": 24,
     "metadata": {},
     "output_type": "execute_result"
    }
   ],
   "source": [
    "summary = df.groupby('Sub.Category')['Profit'].sum().reset_index().sort_values(by='Profit')\n",
    "summary\n"
   ]
  },
  {
   "cell_type": "markdown",
   "id": "35a43ede",
   "metadata": {},
   "source": [
    "## Summary – Q1) Which Product Categories Generate the Most Sales?\n",
    "The analysis of sales across product categories shows that Technology generates the highest total sales, making it the strongest revenue-driving category for the business. Furniture ranks second, contributing a moderate share of total sales. On the other hand, Office Supplies accounts for the lowest sales volume, indicating comparatively lower demand or smaller transaction sizes.\n",
    "Overall, the company should focus on expanding and promoting Technology products, while re-evaluating pricing, marketing, or bundling strategies for Office Supplies to increase performance."
   ]
  },
  {
   "cell_type": "markdown",
   "id": "c0346649",
   "metadata": {},
   "source": [
    "___\n"
   ]
  },
  {
   "cell_type": "markdown",
   "id": "13ee168b",
   "metadata": {},
   "source": [
    "### Q#2: Which cities/states buy the most?"
   ]
  },
  {
   "cell_type": "code",
   "execution_count": null,
   "id": "a9ddcd67",
   "metadata": {},
   "outputs": [
    {
     "data": {
      "text/plain": [
       "State\n",
       "England                   485166\n",
       "California                457731\n",
       "Ile-de-France             317818\n",
       "New York                  310914\n",
       "New South Wales           270509\n",
       "Queensland                238311\n",
       "North Rhine-Westphalia    216458\n",
       "Texas                     170187\n",
       "San Salvador              153648\n",
       "National Capital          152185\n",
       "Name: Sales, dtype: int64"
      ]
     },
     "execution_count": 33,
     "metadata": {},
     "output_type": "execute_result"
    }
   ],
   "source": [
    "top_states = df.groupby('State')['Sales'].sum().sort_values(ascending=False).head(10)\n",
    "top_states\n"
   ]
  },
  {
   "cell_type": "markdown",
   "id": "7fc351b4",
   "metadata": {},
   "source": [
    "### Q2) Which States  Buy the Most?\n",
    "\n",
    "Below are the total sales contributions for each state .  \n",
    "To avoid overcrowded visualizations, charts display only the top-performing locations, \n",
    "while full sales lists are shown in table format for complete analysis.\n",
    "\n"
   ]
  },
  {
   "cell_type": "code",
   "execution_count": 35,
   "id": "c3e4bd6f",
   "metadata": {},
   "outputs": [
    {
     "data": {
      "image/png": "[encoded data removed]",
      "text/plain": [
       "<Figure size 1000x500 with 1 Axes>"
      ]
     },
     "metadata": {},
     "output_type": "display_data"
    }
   ],
   "source": [
    "top_states.head(10).plot(kind='bar', figsize=(10,5))\n",
    "plt.title(\"Top 10 States by Sales\")\n",
    "plt.xlabel(\"State\")\n",
    "plt.ylabel(\"Total Sales\")\n",
    "plt.show()\n"
   ]
  },
  {
   "cell_type": "markdown",
   "id": "10412125",
   "metadata": {},
   "source": [
    "## Summary – Q2) Which States Buy the Most\n",
    "The sales analysis by state shows that some states contribute significantly more to total revenue than others. States with large populations and strong commercial activity, such as California, New York, and Texas, generate the highest sales, indicating strong customer demand and business presence in these regions.\n",
    "Meanwhile, smaller or less commercially active states contribute lower sales volumes. This suggests that marketing and distribution efforts should remain focused on high-demand states, while exploring growth opportunities in underperforming regions."
   ]
  },
  {
   "cell_type": "markdown",
   "id": "3473b825",
   "metadata": {},
   "source": [
    "___"
   ]
  },
  {
   "cell_type": "markdown",
   "id": "8b99f8ce",
   "metadata": {},
   "source": [
    "### Q2) Which Cities Buy the Most?\n",
    "\n",
    "\n"
   ]
  },
  {
   "cell_type": "code",
   "execution_count": 36,
   "id": "0fe36b35",
   "metadata": {},
   "outputs": [
    {
     "data": {
      "text/plain": [
       "City\n",
       "New York City    256397\n",
       "Los Angeles      175857\n",
       "Manila           120896\n",
       "Seattle          119552\n",
       "San Francisco    112690\n",
       "Philadelphia     109085\n",
       "Sydney           101952\n",
       "Jakarta           94318\n",
       "London            86945\n",
       "Mexico City       85732\n",
       "Name: Sales, dtype: int64"
      ]
     },
     "execution_count": 36,
     "metadata": {},
     "output_type": "execute_result"
    }
   ],
   "source": [
    "city_sales = df.groupby('City')['Sales'].sum().sort_values(ascending=False).head(10)\n",
    "city_sales"
   ]
  },
  {
   "cell_type": "markdown",
   "id": "61c5b118",
   "metadata": {},
   "source": [
    "### Q2) Which  Cities Buy the Most?\n",
    "\n",
    "Below are the total sales contributions for each  city.  \n",
    "To avoid overcrowded visualizations, charts display only the top-performing locations, \n",
    "while full sales lists are shown in table format for complete analysis.\n"
   ]
  },
  {
   "cell_type": "code",
   "execution_count": 38,
   "id": "21d8abea",
   "metadata": {},
   "outputs": [
    {
     "data": {
      "image/png": "[encoded data removed]",
      "text/plain": [
       "<Figure size 1200x600 with 1 Axes>"
      ]
     },
     "metadata": {},
     "output_type": "display_data"
    }
   ],
   "source": [
    "city_sales.head(10).plot(kind='bar', figsize=(12,6))\n",
    "plt.title(\"Top 10 Cities by Sales\")\n",
    "plt.xlabel(\"City\")\n",
    "plt.ylabel(\"Total Sales\")\n",
    "plt.show()"
   ]
  },
  {
   "cell_type": "markdown",
   "id": "315e0f10",
   "metadata": {},
   "source": [
    "## Summary – Q2 (Cities): Which Cities Buy the Most \n",
    "The analysis of sales by city shows that major metropolitan and business-centered cities generate the highest revenue. Cities with larger populations and strong commercial markets contribute more to total sales compared to smaller towns. This indicates that demand is concentrated in urban regions, where customer purchasing activity and business operations are higher.\n",
    "These findings suggest that the company should continue prioritizing marketing, distribution, and customer engagement strategies in high-demand metropolitan cities, while evaluating targeted outreach strategies to gradually increase sales in smaller cities."
   ]
  },
  {
   "cell_type": "markdown",
   "id": "c6199ec9",
   "metadata": {},
   "source": [
    "___"
   ]
  },
  {
   "cell_type": "markdown",
   "id": "44cf1ea6",
   "metadata": {},
   "source": [
    "### Q#3 Which months have highest and lowest sales (seasonal trend)?"
   ]
  },
  {
   "cell_type": "code",
   "execution_count": 41,
   "id": "ef13e5ce",
   "metadata": {},
   "outputs": [],
   "source": [
    "df['Month'] = df['Order.Date'].dt.month \n"
   ]
  },
  {
   "cell_type": "code",
   "execution_count": 42,
   "id": "f1446727",
   "metadata": {},
   "outputs": [
    {
     "data": {
      "text/plain": [
       "Month\n",
       "12    1580816\n",
       "11    1551319\n",
       "9     1437432\n",
       "8     1293852\n",
       "6     1269751\n",
       "10    1168220\n",
       "5      904061\n",
       "3      770519\n",
       "7      749423\n",
       "4      698603\n",
       "1      675141\n",
       "2      543768\n",
       "Name: Sales, dtype: int64"
      ]
     },
     "execution_count": 42,
     "metadata": {},
     "output_type": "execute_result"
    }
   ],
   "source": [
    "monthly_sales = df.groupby('Month')['Sales'].sum().sort_values(ascending=False)\n",
    "monthly_sales"
   ]
  },
  {
   "cell_type": "markdown",
   "id": "cede6552",
   "metadata": {},
   "source": [
    "### Q3) Monthly Sales Trend (Seasonality)\n",
    "This chart shows how sales vary across months. It helps identify seasonal peaks and slow periods. \n",
    "High sales months represent strong demand seasons, while low sales months indicate slower business activity."
   ]
  },
  {
   "cell_type": "code",
   "execution_count": 45,
   "id": "39445219",
   "metadata": {},
   "outputs": [
    {
     "data": {
      "image/png": "[encoded data removed]",
      "text/plain": [
       "<Figure size 1000x500 with 1 Axes>"
      ]
     },
     "metadata": {},
     "output_type": "display_data"
    }
   ],
   "source": [
    "monthly_sales.sort_index().plot(kind='line', figsize=(10,5))\n",
    "plt.title(\"Monthly Sales Trend\")\n",
    "plt.xlabel(\"Month\")\n",
    "plt.ylabel(\"Total Sales\")\n",
    "plt.grid()\n",
    "plt.show()"
   ]
  },
  {
   "cell_type": "code",
   "execution_count": 46,
   "id": "0cf83952",
   "metadata": {},
   "outputs": [
    {
     "data": {
      "text/plain": [
       "Month\n",
       "12    1580816\n",
       "11    1551319\n",
       "9     1437432\n",
       "8     1293852\n",
       "6     1269751\n",
       "10    1168220\n",
       "5      904061\n",
       "3      770519\n",
       "7      749423\n",
       "4      698603\n",
       "1      675141\n",
       "2      543768\n",
       "Name: Sales, dtype: int64"
      ]
     },
     "execution_count": 46,
     "metadata": {},
     "output_type": "execute_result"
    }
   ],
   "source": [
    "monthly_sales"
   ]
  },
  {
   "cell_type": "markdown",
   "id": "6cbdaf06",
   "metadata": {},
   "source": [
    "### Summary – Q3) Which Months Have the Highest and Lowest Sales?\n",
    "The monthly sales analysis reveals a clear seasonal pattern in customer purchasing behavior.\n",
    "Sales tend to peak in the later months of the year (especially during November and December), likely due to holiday shopping and year-end business purchases.\n",
    "In contrast, the lowest sales generally occur during the early months of the year, such as January and February, when customer spending is typically lower after the holiday season."
   ]
  },
  {
   "cell_type": "markdown",
   "id": "0b549ab6",
   "metadata": {},
   "source": [
    "___"
   ]
  },
  {
   "cell_type": "markdown",
   "id": "02db68cd",
   "metadata": {},
   "source": [
    "### 4 Which products are profitable vs unprofitable?"
   ]
  },
  {
   "cell_type": "markdown",
   "id": "55ec5502",
   "metadata": {},
   "source": [
    "### Summary – Q4) Which Products Are Profitable vs Unprofitable?\n",
    "The profit analysis by product sub-category shows a clear contrast in performance.\n",
    "Copiers are the most profitable sub-category, contributing significantly to overall profit margins. This indicates strong demand and efficient pricing for copier products.\n",
    "\n",
    "On the other hand, Tables consistently generate losses, making them the least profitable sub-category. This may be due to high production or shipping costs, heavy discounts, or low market demand."
   ]
  },
  {
   "cell_type": "markdown",
   "id": "167d3c87",
   "metadata": {},
   "source": [
    "# Implications:\n",
    "The company should continue promoting and investing in copier products to sustain profit growth.\n",
    "\n",
    "The pricing, cost structure, or discount strategy for Tables should be reviewed to reduce losses or improve profit margins."
   ]
  },
  {
   "cell_type": "markdown",
   "id": "026759a1",
   "metadata": {},
   "source": [
    "___"
   ]
  },
  {
   "cell_type": "markdown",
   "id": "3d66616b",
   "metadata": {},
   "source": [
    "## Q5 → Which customer segment buys the most?"
   ]
  },
  {
   "cell_type": "markdown",
   "id": "950b739a",
   "metadata": {},
   "source": [
    "### Summary – Q5) Which Customer Segment Buys the Most?\n",
    "The sales analysis by customer segment shows that the Consumer segment contributes the highest share of total sales, followed by the Corporate segment. The Home Office segment accounts for the smallest portion of sales.\n",
    "\n",
    "This indicates that individual retail consumers are the primary target market, purchasing more frequently and in higher volumes. Corporate customers also contribute significantly, but at a lower scale. The Home Office segment represents a smaller, more specialized customer group."
   ]
  },
  {
   "cell_type": "markdown",
   "id": "a75bd4f0",
   "metadata": {},
   "source": [
    "# Implications:\n",
    "The company should continue focusing marketing and promotional efforts on the Consumer segment, where demand is strongest.\n",
    "\n",
    "Opportunities may exist to expand Corporate and Home Office sales through business-focused offers, loyalty programs, or bulk purchase incentives."
   ]
  },
  {
   "cell_type": "markdown",
   "id": "4473a6f5",
   "metadata": {},
   "source": [
    "___"
   ]
  },
  {
   "cell_type": "markdown",
   "id": "413323c4",
   "metadata": {},
   "source": [
    "#  Final Summary of Insights (Conclusion)\n",
    "### The Superstore dataset analysis highlights several key business patterns:\n",
    "### 1. Top-Selling Product Categories:\n",
    "#### . Technology generated the highest sales, followed by Furniture and Office Supplies.\n",
    "#### . However, higher sales did not always result in higher profits.\n",
    "### 2. Profitability by Sub-Category:\n",
    "#### . Copiers, Phones, and Bookcases were among the most profitable sub-categories.\n",
    "#### . Tables showed significant losses, indicating pricing or cost issues.\n",
    "### 3. Geographical Sales Performance:\n",
    "#### . California and New York emerged as the top revenue-generating states.\n",
    "#### . Across cities, New York City and Los Angeles recorded the highest sales, reflecting strong customer bases and economic activity.\n",
    "### 4. Seasonal Trends:\n",
    "#### . Sales tend to peak in November and December, influenced by holiday shopping and year-end corporate budgets.\n",
    "#### . The lowest sales generally occur during February, indicating slower retail activity early in the year.\n",
    "### 5. Customer Segment Insights:\n",
    "#### . Consumer Segment made the highest number of purchases, followed by Corporate and Home Office customers.\n",
    "#### . Marketing efforts toward consumers can further increase sales growth."
   ]
  },
  {
   "cell_type": "markdown",
   "id": "7a72d740",
   "metadata": {},
   "source": [
    "------"
   ]
  }
 ],
 "metadata": {
  "kernelspec": {
   "display_name": "cleanenv",
   "language": "python",
   "name": "python3"
  },
  "language_info": {
   "codemirror_mode": {
    "name": "ipython",
    "version": 3
   },
   "file_extension": ".py",
   "mimetype": "text/x-python",
   "name": "python",
   "nbconvert_exporter": "python",
   "pygments_lexer": "ipython3",
   "version": "3.11.14"
  }
 },
 "nbformat": 4,
 "nbformat_minor": 5
}
